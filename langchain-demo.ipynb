{
 "cells": [
  {
   "cell_type": "code",
   "execution_count": 12,
   "id": "62f9cccf-a40e-476e-8b41-e1461b0e407d",
   "metadata": {},
   "outputs": [],
   "source": [
    "import os\n",
    "from openapi_key import openapi_key\n",
    "os.environ['OPENAI_API_KEY']= openapi_key"
   ]
  },
  {
   "cell_type": "code",
   "execution_count": 6,
   "id": "68dee8e3-8477-47d7-835f-a7d4239b5a03",
   "metadata": {},
   "outputs": [
    {
     "name": "stdout",
     "output_type": "stream",
     "text": [
      "Collecting langchainNote: you may need to restart the kernel to use updated packages.\n",
      "\n",
      "  Downloading langchain-0.1.17-py3-none-any.whl.metadata (13 kB)\n",
      "Requirement already satisfied: PyYAML>=5.3 in c:\\users\\aakarsh roy\\anaconda3\\lib\\site-packages (from langchain) (6.0.1)\n",
      "Requirement already satisfied: SQLAlchemy<3,>=1.4 in c:\\users\\aakarsh roy\\anaconda3\\lib\\site-packages (from langchain) (2.0.25)\n",
      "Requirement already satisfied: aiohttp<4.0.0,>=3.8.3 in c:\\users\\aakarsh roy\\anaconda3\\lib\\site-packages (from langchain) (3.9.3)\n",
      "Collecting dataclasses-json<0.7,>=0.5.7 (from langchain)\n",
      "  Downloading dataclasses_json-0.6.5-py3-none-any.whl.metadata (25 kB)\n",
      "Collecting jsonpatch<2.0,>=1.33 (from langchain)\n",
      "  Downloading jsonpatch-1.33-py2.py3-none-any.whl.metadata (3.0 kB)\n",
      "Collecting langchain-community<0.1,>=0.0.36 (from langchain)\n",
      "  Downloading langchain_community-0.0.37-py3-none-any.whl.metadata (8.7 kB)\n",
      "Collecting langchain-core<0.2.0,>=0.1.48 (from langchain)\n",
      "  Downloading langchain_core-0.1.52-py3-none-any.whl.metadata (5.9 kB)\n",
      "Collecting langchain-text-splitters<0.1,>=0.0.1 (from langchain)\n",
      "  Downloading langchain_text_splitters-0.0.1-py3-none-any.whl.metadata (2.0 kB)\n",
      "Collecting langsmith<0.2.0,>=0.1.17 (from langchain)\n",
      "  Downloading langsmith-0.1.55-py3-none-any.whl.metadata (13 kB)\n",
      "Requirement already satisfied: numpy<2,>=1 in c:\\users\\aakarsh roy\\anaconda3\\lib\\site-packages (from langchain) (1.26.4)\n",
      "Requirement already satisfied: pydantic<3,>=1 in c:\\users\\aakarsh roy\\anaconda3\\lib\\site-packages (from langchain) (1.10.12)\n",
      "Requirement already satisfied: requests<3,>=2 in c:\\users\\aakarsh roy\\anaconda3\\lib\\site-packages (from langchain) (2.31.0)\n",
      "Requirement already satisfied: tenacity<9.0.0,>=8.1.0 in c:\\users\\aakarsh roy\\anaconda3\\lib\\site-packages (from langchain) (8.2.2)\n",
      "Requirement already satisfied: aiosignal>=1.1.2 in c:\\users\\aakarsh roy\\anaconda3\\lib\\site-packages (from aiohttp<4.0.0,>=3.8.3->langchain) (1.2.0)\n",
      "Requirement already satisfied: attrs>=17.3.0 in c:\\users\\aakarsh roy\\anaconda3\\lib\\site-packages (from aiohttp<4.0.0,>=3.8.3->langchain) (23.1.0)\n",
      "Requirement already satisfied: frozenlist>=1.1.1 in c:\\users\\aakarsh roy\\anaconda3\\lib\\site-packages (from aiohttp<4.0.0,>=3.8.3->langchain) (1.4.0)\n",
      "Requirement already satisfied: multidict<7.0,>=4.5 in c:\\users\\aakarsh roy\\anaconda3\\lib\\site-packages (from aiohttp<4.0.0,>=3.8.3->langchain) (6.0.4)\n",
      "Requirement already satisfied: yarl<2.0,>=1.0 in c:\\users\\aakarsh roy\\anaconda3\\lib\\site-packages (from aiohttp<4.0.0,>=3.8.3->langchain) (1.9.3)\n",
      "Collecting marshmallow<4.0.0,>=3.18.0 (from dataclasses-json<0.7,>=0.5.7->langchain)\n",
      "  Downloading marshmallow-3.21.2-py3-none-any.whl.metadata (7.1 kB)\n",
      "Collecting typing-inspect<1,>=0.4.0 (from dataclasses-json<0.7,>=0.5.7->langchain)\n",
      "  Downloading typing_inspect-0.9.0-py3-none-any.whl.metadata (1.5 kB)\n",
      "Requirement already satisfied: jsonpointer>=1.9 in c:\\users\\aakarsh roy\\anaconda3\\lib\\site-packages (from jsonpatch<2.0,>=1.33->langchain) (2.1)\n",
      "Collecting packaging<24.0,>=23.2 (from langchain-core<0.2.0,>=0.1.48->langchain)\n",
      "  Downloading packaging-23.2-py3-none-any.whl.metadata (3.2 kB)\n",
      "Collecting orjson<4.0.0,>=3.9.14 (from langsmith<0.2.0,>=0.1.17->langchain)\n",
      "  Downloading orjson-3.10.3-cp311-none-win_amd64.whl.metadata (50 kB)\n",
      "     ---------------------------------------- 0.0/50.9 kB ? eta -:--:--\n",
      "     ---------------------------------------- 50.9/50.9 kB ? eta 0:00:00\n",
      "Requirement already satisfied: typing-extensions>=4.2.0 in c:\\users\\aakarsh roy\\anaconda3\\lib\\site-packages (from pydantic<3,>=1->langchain) (4.9.0)\n",
      "Requirement already satisfied: charset-normalizer<4,>=2 in c:\\users\\aakarsh roy\\anaconda3\\lib\\site-packages (from requests<3,>=2->langchain) (2.0.4)\n",
      "Requirement already satisfied: idna<4,>=2.5 in c:\\users\\aakarsh roy\\anaconda3\\lib\\site-packages (from requests<3,>=2->langchain) (3.4)\n",
      "Requirement already satisfied: urllib3<3,>=1.21.1 in c:\\users\\aakarsh roy\\anaconda3\\lib\\site-packages (from requests<3,>=2->langchain) (2.0.7)\n",
      "Requirement already satisfied: certifi>=2017.4.17 in c:\\users\\aakarsh roy\\anaconda3\\lib\\site-packages (from requests<3,>=2->langchain) (2024.2.2)\n",
      "Requirement already satisfied: greenlet!=0.4.17 in c:\\users\\aakarsh roy\\anaconda3\\lib\\site-packages (from SQLAlchemy<3,>=1.4->langchain) (3.0.1)\n",
      "Requirement already satisfied: mypy-extensions>=0.3.0 in c:\\users\\aakarsh roy\\anaconda3\\lib\\site-packages (from typing-inspect<1,>=0.4.0->dataclasses-json<0.7,>=0.5.7->langchain) (1.0.0)\n",
      "Downloading langchain-0.1.17-py3-none-any.whl (867 kB)\n",
      "   ---------------------------------------- 0.0/867.6 kB ? eta -:--:--\n",
      "   ------------------------------- ------- 706.6/867.6 kB 21.8 MB/s eta 0:00:01\n",
      "   --------------------------------------- 867.6/867.6 kB 13.6 MB/s eta 0:00:00\n",
      "Downloading dataclasses_json-0.6.5-py3-none-any.whl (28 kB)\n",
      "Downloading jsonpatch-1.33-py2.py3-none-any.whl (12 kB)\n",
      "Downloading langchain_community-0.0.37-py3-none-any.whl (2.0 MB)\n",
      "   ---------------------------------------- 0.0/2.0 MB ? eta -:--:--\n",
      "   ------------------ --------------------- 0.9/2.0 MB 29.4 MB/s eta 0:00:01\n",
      "   ---------------------------- ----------- 1.4/2.0 MB 18.4 MB/s eta 0:00:01\n",
      "   --------------------------------- ------ 1.7/2.0 MB 13.4 MB/s eta 0:00:01\n",
      "   ------------------------------------- -- 1.9/2.0 MB 11.0 MB/s eta 0:00:01\n",
      "   ---------------------------------------- 2.0/2.0 MB 9.2 MB/s eta 0:00:00\n",
      "Downloading langchain_core-0.1.52-py3-none-any.whl (302 kB)\n",
      "   ---------------------------------------- 0.0/302.9 kB ? eta -:--:--\n",
      "   --------------------------- ------------ 204.8/302.9 kB 6.3 MB/s eta 0:00:01\n",
      "   ---------------------------------------- 302.9/302.9 kB 3.8 MB/s eta 0:00:00\n",
      "Downloading langchain_text_splitters-0.0.1-py3-none-any.whl (21 kB)\n",
      "Downloading langsmith-0.1.55-py3-none-any.whl (120 kB)\n",
      "   ---------------------------------------- 0.0/120.6 kB ? eta -:--:--\n",
      "   ---------------------------------------- 120.6/120.6 kB 3.6 MB/s eta 0:00:00\n",
      "Downloading marshmallow-3.21.2-py3-none-any.whl (49 kB)\n",
      "   ---------------------------------------- 0.0/49.3 kB ? eta -:--:--\n",
      "   ---------------------------------------- 49.3/49.3 kB 2.4 MB/s eta 0:00:00\n",
      "Downloading orjson-3.10.3-cp311-none-win_amd64.whl (138 kB)\n",
      "   ---------------------------------------- 0.0/138.8 kB ? eta -:--:--\n",
      "   ---------------------------------------- 138.8/138.8 kB 8.0 MB/s eta 0:00:00\n",
      "Downloading packaging-23.2-py3-none-any.whl (53 kB)\n",
      "   ---------------------------------------- 0.0/53.0 kB ? eta -:--:--\n",
      "   ---------------------------------------- 53.0/53.0 kB ? eta 0:00:00\n",
      "Downloading typing_inspect-0.9.0-py3-none-any.whl (8.8 kB)\n",
      "Installing collected packages: typing-inspect, packaging, orjson, jsonpatch, marshmallow, langsmith, langchain-core, dataclasses-json, langchain-text-splitters, langchain-community, langchain\n",
      "  Attempting uninstall: packaging\n",
      "    Found existing installation: packaging 23.1\n",
      "    Uninstalling packaging-23.1:\n",
      "      Successfully uninstalled packaging-23.1\n",
      "  Attempting uninstall: jsonpatch\n",
      "    Found existing installation: jsonpatch 1.32\n",
      "    Uninstalling jsonpatch-1.32:\n",
      "      Successfully uninstalled jsonpatch-1.32\n",
      "Successfully installed dataclasses-json-0.6.5 jsonpatch-1.33 langchain-0.1.17 langchain-community-0.0.37 langchain-core-0.1.52 langchain-text-splitters-0.0.1 langsmith-0.1.55 marshmallow-3.21.2 orjson-3.10.3 packaging-23.2 typing-inspect-0.9.0\n"
     ]
    }
   ],
   "source": [
    "pip install langchain"
   ]
  },
  {
   "cell_type": "code",
   "execution_count": 7,
   "id": "651da4de-4f00-4e54-ac13-980385de889a",
   "metadata": {},
   "outputs": [
    {
     "name": "stdout",
     "output_type": "stream",
     "text": [
      "Collecting openai\n",
      "  Downloading openai-1.26.0-py3-none-any.whl.metadata (21 kB)\n",
      "Requirement already satisfied: anyio<5,>=3.5.0 in c:\\users\\aakarsh roy\\anaconda3\\lib\\site-packages (from openai) (4.2.0)\n",
      "Requirement already satisfied: distro<2,>=1.7.0 in c:\\users\\aakarsh roy\\anaconda3\\lib\\site-packages (from openai) (1.8.0)\n",
      "Collecting httpx<1,>=0.23.0 (from openai)\n",
      "  Downloading httpx-0.27.0-py3-none-any.whl.metadata (7.2 kB)\n",
      "Requirement already satisfied: pydantic<3,>=1.9.0 in c:\\users\\aakarsh roy\\anaconda3\\lib\\site-packages (from openai) (1.10.12)\n",
      "Requirement already satisfied: sniffio in c:\\users\\aakarsh roy\\anaconda3\\lib\\site-packages (from openai) (1.3.0)\n",
      "Requirement already satisfied: tqdm>4 in c:\\users\\aakarsh roy\\anaconda3\\lib\\site-packages (from openai) (4.65.0)\n",
      "Requirement already satisfied: typing-extensions<5,>=4.7 in c:\\users\\aakarsh roy\\anaconda3\\lib\\site-packages (from openai) (4.9.0)\n",
      "Requirement already satisfied: idna>=2.8 in c:\\users\\aakarsh roy\\anaconda3\\lib\\site-packages (from anyio<5,>=3.5.0->openai) (3.4)\n",
      "Requirement already satisfied: certifi in c:\\users\\aakarsh roy\\anaconda3\\lib\\site-packages (from httpx<1,>=0.23.0->openai) (2024.2.2)\n",
      "Collecting httpcore==1.* (from httpx<1,>=0.23.0->openai)\n",
      "  Downloading httpcore-1.0.5-py3-none-any.whl.metadata (20 kB)\n",
      "Collecting h11<0.15,>=0.13 (from httpcore==1.*->httpx<1,>=0.23.0->openai)\n",
      "  Downloading h11-0.14.0-py3-none-any.whl.metadata (8.2 kB)\n",
      "Requirement already satisfied: colorama in c:\\users\\aakarsh roy\\anaconda3\\lib\\site-packages (from tqdm>4->openai) (0.4.6)\n",
      "Downloading openai-1.26.0-py3-none-any.whl (314 kB)\n",
      "   ---------------------------------------- 0.0/314.1 kB ? eta -:--:--\n",
      "   -------------------------- ------------- 204.8/314.1 kB 6.3 MB/s eta 0:00:01\n",
      "   ---------------------------------------- 314.1/314.1 kB 6.5 MB/s eta 0:00:00\n",
      "Downloading httpx-0.27.0-py3-none-any.whl (75 kB)\n",
      "   ---------------------------------------- 0.0/75.6 kB ? eta -:--:--\n",
      "   ---------------------------------------- 75.6/75.6 kB 4.1 MB/s eta 0:00:00\n",
      "Downloading httpcore-1.0.5-py3-none-any.whl (77 kB)\n",
      "   ---------------------------------------- 0.0/77.9 kB ? eta -:--:--\n",
      "   ---------------------------------------- 77.9/77.9 kB ? eta 0:00:00\n",
      "Downloading h11-0.14.0-py3-none-any.whl (58 kB)\n",
      "   ---------------------------------------- 0.0/58.3 kB ? eta -:--:--\n",
      "   ---------------------------------------- 58.3/58.3 kB 3.0 MB/s eta 0:00:00\n",
      "Installing collected packages: h11, httpcore, httpx, openai\n",
      "Successfully installed h11-0.14.0 httpcore-1.0.5 httpx-0.27.0 openai-1.26.0\n",
      "Note: you may need to restart the kernel to use updated packages.\n"
     ]
    }
   ],
   "source": [
    "pip install openai"
   ]
  },
  {
   "cell_type": "code",
   "execution_count": 14,
   "id": "f74a9733-71ef-4026-839c-276c933b2eff",
   "metadata": {},
   "outputs": [
    {
     "name": "stdout",
     "output_type": "stream",
     "text": [
      "\n",
      "\n",
      "One suggestion for a holiday destination is Hawaii. With its stunning beaches, lush rainforests, and diverse culture, Hawaii offers something for every type of traveler. You can relax on the beach, go hiking or explore the volcanic landscapes, learn about Hawaiian history and traditions, and indulge in delicious local cuisine. Plus, the warm and welcoming atmosphere of the islands will make for a memorable and rejuvenating vacation.\n"
     ]
    }
   ],
   "source": [
    "from langchain.llms import OpenAI\n",
    "llm = OpenAI(temperature=0.9)\n",
    "name = llm.predict(\"I want to go for vacation, suggest a holiday destination\")\n",
    "print(name)"
   ]
  },
  {
   "cell_type": "code",
   "execution_count": 18,
   "id": "853a5937-dd3c-4c31-9eac-4f840514ba5e",
   "metadata": {},
   "outputs": [
    {
     "name": "stdout",
     "output_type": "stream",
     "text": [
      "I want to go on vacation in an Indian city. Suggest one.\n"
     ]
    }
   ],
   "source": [
    "from langchain.prompts import PromptTemplate\n",
    "\n",
    "prompt_template_name = PromptTemplate(\n",
    "    input_variables =['country'],\n",
    "    template = \"I want to go on vacation in an {country} city. Suggest one.\"\n",
    ")\n",
    "p = prompt_template_name.format(country=\"Indian\")\n",
    "print(p)"
   ]
  },
  {
   "cell_type": "code",
   "execution_count": 20,
   "id": "d070f848-c63e-45a8-b668-24b7fd4607a7",
   "metadata": {},
   "outputs": [
    {
     "data": {
      "text/plain": [
       "'\\n\\nJaipur, also known as the \"Pink City,\" is a great option for a vacation in India. This city in the state of Rajasthan is home to stunning forts and palaces, including the iconic Amber Fort and City Palace. Jaipur is also known for its bustling bazaars, where you can shop for traditional handicrafts and artifacts. The city is also a food lover\\'s paradise, with its famous Rajasthani cuisine and street food. Other popular attractions in Jaipur include the Hawa Mahal, Jantar Mantar, and Nahargarh Fort. With its rich history, vibrant culture, and delicious food, Jaipur is a must-visit for anyone looking to experience the essence of India.'"
      ]
     },
     "execution_count": 20,
     "metadata": {},
     "output_type": "execute_result"
    }
   ],
   "source": [
    "from langchain.chains import LLMChain\n",
    "\n",
    "chain = LLMChain(llm=llm, prompt=prompt_template_name)\n",
    "chain.run(\"indian\")"
   ]
  },
  {
   "cell_type": "code",
   "execution_count": 22,
   "id": "b87960da-e618-4e98-9d2a-b74d018269c1",
   "metadata": {},
   "outputs": [],
   "source": [
    "llm = OpenAI(temperature=0.6)\n",
    "\n",
    "prompt_template_name = PromptTemplate(\n",
    "    input_variables =['cuisine'],\n",
    "    template = \"I want to open a restaurant for {cuisine} food. Suggest a fancy name for this.\"\n",
    ")\n",
    "\n",
    "name_chain =LLMChain(llm=llm, prompt=prompt_template_name)\n",
    "\n",
    "prompt_template_items = PromptTemplate(\n",
    "    input_variables = ['restaurant_name'],\n",
    "    template=\"\"\"Suggest some menu items(only vegetarian) for {restaurant_name}\"\"\"\n",
    ")\n",
    "\n",
    "food_items_chain = LLMChain(llm=llm, prompt=prompt_template_items)"
   ]
  },
  {
   "cell_type": "code",
   "execution_count": 23,
   "id": "4c8c106b-1c75-45ca-982c-ea454d9e12bb",
   "metadata": {},
   "outputs": [
    {
     "name": "stdout",
     "output_type": "stream",
     "text": [
      "\n",
      "\n",
      "1. Vegetable samosas\n",
      "2. Chana masala\n",
      "3. Palak paneer\n",
      "4. Aloo gobi\n",
      "5. Vegetable biryani\n",
      "6. Dal makhani\n",
      "7. Vegetable korma\n",
      "8. Mushroom tikka masala\n",
      "9. Tandoori vegetables\n",
      "10. Vegetable jalfrezi\n",
      "11. Malai kofta\n",
      "12. Gobi Manchurian\n",
      "13. Aloo tikki chaat\n",
      "14. Vegetable seekh kebab\n",
      "15. Paneer tikka masala\n",
      "16. Mixed vegetable curry\n",
      "17. Baingan bharta\n",
      "18. Tandoori paneer tikka\n",
      "19. Vegetable pulao\n",
      "20. Vegetable pakora.\n"
     ]
    }
   ],
   "source": [
    "from langchain.chains import SimpleSequentialChain\n",
    "chain = SimpleSequentialChain(chains = [name_chain, food_items_chain])\n",
    "\n",
    "content = chain.run(\"Indian\")\n",
    "print(content)"
   ]
  },
  {
   "cell_type": "code",
   "execution_count": 24,
   "id": "4165cbca-036c-4c17-8b92-8b98a0ae0dca",
   "metadata": {},
   "outputs": [],
   "source": [
    "llm = OpenAI(temperature=0.7)\n",
    "\n",
    "prompt_template_name = PromptTemplate(\n",
    "    input_variables =['cuisine'],\n",
    "    template = \"I want to open a restaurant for {cuisine} food. Suggest a fency name for this.\"\n",
    ")\n",
    "\n",
    "name_chain =LLMChain(llm=llm, prompt=prompt_template_name, output_key=\"restaurant_name\")\n",
    "\n",
    "llm = OpenAI(temperature=0.7)\n",
    "\n",
    "prompt_template_items = PromptTemplate(\n",
    "    input_variables = ['restaurant_name'],\n",
    "    template=\"Suggest some menu items for {restaurant_name}.\"\n",
    ")\n",
    "\n",
    "food_items_chain =LLMChain(llm=llm, prompt=prompt_template_items, output_key=\"menu_items\")"
   ]
  },
  {
   "cell_type": "code",
   "execution_count": 26,
   "id": "04eecbb8-9ef7-4607-b84f-a2f3099af4eb",
   "metadata": {},
   "outputs": [
    {
     "data": {
      "text/plain": [
       "{'cuisine': 'American(only veg)',\n",
       " 'restaurant_name': '\\n\\n\"Herb & Harvest: A Modern American Eatery\" ',\n",
       " 'menu_items': '\\n\\n1. Seasonal Herb Salad with Fresh Greens, Herbs, and Berries\\n2. Herb-Crusted Chicken Breast with Rosemary Roasted Potatoes\\n3. Harvest Vegetable Risotto with Butternut Squash, Brussels Sprouts, and Sage\\n4. Grilled Lemon and Herb Salmon with Quinoa and Grilled Asparagus\\n5. Herb and Goat Cheese Stuffed Chicken Roulade with Garlic Mashed Potatoes\\n6. Harvest Vegetable Soup with Parmesan Croutons\\n7. Herb-Marinated Flank Steak with Grilled Vegetables and Chimichurri Sauce\\n8. Crispy Herb and Parmesan Crusted Pork Chops with Roasted Root Vegetables\\n9. Butternut Squash and Sage Ravioli in a Brown Butter Herb Sauce\\n10. Harvest Grain Bowl with Farro, Roasted Vegetables, and a Lemon Herb Dressing.'}"
      ]
     },
     "execution_count": 26,
     "metadata": {},
     "output_type": "execute_result"
    }
   ],
   "source": [
    "from langchain.chains import SequentialChain\n",
    "\n",
    "chain = SequentialChain(\n",
    "    chains = [name_chain, food_items_chain],\n",
    "    input_variables = ['cuisine'],\n",
    "    output_variables = ['restaurant_name', \"menu_items\"]\n",
    ")\n",
    "chain({\"cuisine\": \"American(only veg)\"})"
   ]
  },
  {
   "cell_type": "code",
   "execution_count": 27,
   "id": "c19870c0-9b8d-40ea-bcad-dc5b6f60f702",
   "metadata": {},
   "outputs": [
    {
     "name": "stdout",
     "output_type": "stream",
     "text": [
      "Collecting google-search-resultsNote: you may need to restart the kernel to use updated packages.\n",
      "\n",
      "  Downloading google_search_results-2.4.2.tar.gz (18 kB)\n",
      "  Preparing metadata (setup.py): started\n",
      "  Preparing metadata (setup.py): finished with status 'done'\n",
      "Requirement already satisfied: requests in c:\\users\\aakarsh roy\\anaconda3\\lib\\site-packages (from google-search-results) (2.31.0)\n",
      "Requirement already satisfied: charset-normalizer<4,>=2 in c:\\users\\aakarsh roy\\anaconda3\\lib\\site-packages (from requests->google-search-results) (2.0.4)\n",
      "Requirement already satisfied: idna<4,>=2.5 in c:\\users\\aakarsh roy\\anaconda3\\lib\\site-packages (from requests->google-search-results) (3.4)\n",
      "Requirement already satisfied: urllib3<3,>=1.21.1 in c:\\users\\aakarsh roy\\anaconda3\\lib\\site-packages (from requests->google-search-results) (2.0.7)\n",
      "Requirement already satisfied: certifi>=2017.4.17 in c:\\users\\aakarsh roy\\anaconda3\\lib\\site-packages (from requests->google-search-results) (2024.2.2)\n",
      "Building wheels for collected packages: google-search-results\n",
      "  Building wheel for google-search-results (setup.py): started\n",
      "  Building wheel for google-search-results (setup.py): finished with status 'done'\n",
      "  Created wheel for google-search-results: filename=google_search_results-2.4.2-py3-none-any.whl size=32077 sha256=ad53b3a6d78e6e9cbf767328a241b25608f48f22175469d61469ef63418797eb\n",
      "  Stored in directory: c:\\users\\aakarsh roy\\appdata\\local\\pip\\cache\\wheels\\6e\\42\\3e\\aeb691b02cb7175ec70e2da04b5658d4739d2b41e5f73cd06f\n",
      "Successfully built google-search-results\n",
      "Installing collected packages: google-search-results\n",
      "Successfully installed google-search-results-2.4.2\n"
     ]
    }
   ],
   "source": [
    "pip install google-search-results"
   ]
  },
  {
   "cell_type": "code",
   "execution_count": 30,
   "id": "33c9741e-e943-41c4-b6be-1aa68af1ff65",
   "metadata": {},
   "outputs": [
    {
     "name": "stdout",
     "output_type": "stream",
     "text": [
      "Collecting wikipedia\n",
      "  Downloading wikipedia-1.4.0.tar.gz (27 kB)\n",
      "  Preparing metadata (setup.py): started\n",
      "  Preparing metadata (setup.py): finished with status 'done'\n",
      "Requirement already satisfied: beautifulsoup4 in c:\\users\\aakarsh roy\\anaconda3\\lib\\site-packages (from wikipedia) (4.12.2)\n",
      "Requirement already satisfied: requests<3.0.0,>=2.0.0 in c:\\users\\aakarsh roy\\anaconda3\\lib\\site-packages (from wikipedia) (2.31.0)\n",
      "Requirement already satisfied: charset-normalizer<4,>=2 in c:\\users\\aakarsh roy\\anaconda3\\lib\\site-packages (from requests<3.0.0,>=2.0.0->wikipedia) (2.0.4)\n",
      "Requirement already satisfied: idna<4,>=2.5 in c:\\users\\aakarsh roy\\anaconda3\\lib\\site-packages (from requests<3.0.0,>=2.0.0->wikipedia) (3.4)\n",
      "Requirement already satisfied: urllib3<3,>=1.21.1 in c:\\users\\aakarsh roy\\anaconda3\\lib\\site-packages (from requests<3.0.0,>=2.0.0->wikipedia) (2.0.7)\n",
      "Requirement already satisfied: certifi>=2017.4.17 in c:\\users\\aakarsh roy\\anaconda3\\lib\\site-packages (from requests<3.0.0,>=2.0.0->wikipedia) (2024.2.2)\n",
      "Requirement already satisfied: soupsieve>1.2 in c:\\users\\aakarsh roy\\anaconda3\\lib\\site-packages (from beautifulsoup4->wikipedia) (2.5)\n",
      "Building wheels for collected packages: wikipedia\n",
      "  Building wheel for wikipedia (setup.py): started\n",
      "  Building wheel for wikipedia (setup.py): finished with status 'done'\n",
      "  Created wheel for wikipedia: filename=wikipedia-1.4.0-py3-none-any.whl size=11704 sha256=5ce47e23f10673469ba197713eae9340ac3c8a2fb2848f528b68f8f2baf7d375\n",
      "  Stored in directory: c:\\users\\aakarsh roy\\appdata\\local\\pip\\cache\\wheels\\8f\\ab\\cb\\45ccc40522d3a1c41e1d2ad53b8f33a62f394011ec38cd71c6\n",
      "Successfully built wikipedia\n",
      "Installing collected packages: wikipedia\n",
      "Successfully installed wikipedia-1.4.0\n",
      "Note: you may need to restart the kernel to use updated packages.\n"
     ]
    }
   ],
   "source": [
    "pip install wikipedia"
   ]
  },
  {
   "cell_type": "code",
   "execution_count": 31,
   "id": "c1028579-287d-48de-992f-df0f0d6ed178",
   "metadata": {},
   "outputs": [
    {
     "name": "stderr",
     "output_type": "stream",
     "text": [
      "C:\\Users\\Aakarsh Roy\\anaconda3\\Lib\\site-packages\\langchain_core\\_api\\deprecation.py:119: LangChainDeprecationWarning: The function `initialize_agent` was deprecated in LangChain 0.1.0 and will be removed in 0.2.0. Use Use new agent constructor methods like create_react_agent, create_json_agent, create_structured_chat_agent, etc. instead.\n",
      "  warn_deprecated(\n"
     ]
    },
    {
     "name": "stdout",
     "output_type": "stream",
     "text": [
      "\n",
      "\n",
      "\u001b[1m> Entering new AgentExecutor chain...\u001b[0m\n",
      "\u001b[32;1m\u001b[1;3m I should use Wikipedia to find information about Virat Kohli\n",
      "Action: Wikipedia\n",
      "Action Input: Virat Kohli\u001b[0m\n",
      "Observation: Wikipedia is not a valid tool, try one of [wikipedia, Calculator].\n",
      "Thought:\u001b[32;1m\u001b[1;3m I should use Calculator to calculate the age of Virat Kohli in 2056\n",
      "Action: Calculator\n",
      "Action Input: 2056 - 1988\u001b[0m\n",
      "Observation: \u001b[33;1m\u001b[1;3mAnswer: 68\u001b[0m\n",
      "Thought:\u001b[32;1m\u001b[1;3m I now know the final answer\n",
      "Final Answer: The age of Virat Kohli in 2056 will be 68 years old.\u001b[0m\n",
      "\n",
      "\u001b[1m> Finished chain.\u001b[0m\n"
     ]
    },
    {
     "data": {
      "text/plain": [
       "'The age of Virat Kohli in 2056 will be 68 years old.'"
      ]
     },
     "execution_count": 31,
     "metadata": {},
     "output_type": "execute_result"
    }
   ],
   "source": [
    "from langchain.agents import AgentType, initialize_agent, load_tools\n",
    "from langchain.llms import OpenAI\n",
    "\n",
    "llm = OpenAI(temperature=0)\n",
    "\n",
    "# The tools we'll give the Agent access to. Note that the 'llm-math' tool uses an LLM, so we need to pass that in.\n",
    "tools = load_tools([\"wikipedia\", \"llm-math\"], llm=llm)\n",
    "\n",
    "# Finally, let's initialize an agent with the tools, the language model, and the type of agent we want to use.\n",
    "agent = initialize_agent(tools, llm, agent=AgentType.ZERO_SHOT_REACT_DESCRIPTION, verbose=True)\n",
    "\n",
    "# Let's test it out!\n",
    "agent.run(\"Age of virat kohli in 2056?\")"
   ]
  },
  {
   "cell_type": "code",
   "execution_count": 36,
   "id": "02e8775a-3aa2-45b1-935f-e66fb17ca612",
   "metadata": {},
   "outputs": [],
   "source": [
    "os.environ['SERPAPI_API_KEY'] = \"a0b588db2b289eede22fb3ed95ab200cbc3776b4d2cebc713205a34e55a8c94a\""
   ]
  },
  {
   "cell_type": "code",
   "execution_count": 37,
   "id": "00637d28-7b79-47fb-b39e-1de644405c3d",
   "metadata": {},
   "outputs": [
    {
     "name": "stdout",
     "output_type": "stream",
     "text": [
      "\n",
      "\n",
      "\u001b[1m> Entering new AgentExecutor chain...\u001b[0m\n",
      "\u001b[32;1m\u001b[1;3m I should search for information about haleys comet and its orbit.\n",
      "Action: Search\n",
      "Action Input: \"haleys comet orbit\"\u001b[0m\n",
      "Observation: \u001b[36;1m\u001b[1;3mHalley's orbit period is, on average, 76 Earth years. This corresponds to an orbital circumference around the Sun of about 7.6 billion miles (12.2 billion kilometers). The period varies from appearance to appearance because of the gravitational effects of the planets.\u001b[0m\n",
      "Thought:\u001b[32;1m\u001b[1;3m I should use a calculator to determine when the next appearance will be based on the average orbit period.\n",
      "Action: Calculator\n",
      "Action Input: 76 x 76\u001b[0m\n",
      "Observation: \u001b[33;1m\u001b[1;3mAnswer: 5776\u001b[0m\n",
      "Thought:\u001b[32;1m\u001b[1;3m I should subtract the current year from the result to determine when the next appearance will be.\n",
      "Action: Calculator\n",
      "Action Input: 5776 - 2021\u001b[0m\n",
      "Observation: \u001b[33;1m\u001b[1;3mAnswer: 3755\u001b[0m\n",
      "Thought:\u001b[32;1m\u001b[1;3m I now know that the next appearance of Halley's comet will be in the year 3755.\n",
      "Final Answer: The next appearance of Halley's comet can be spotted in the year 3755.\u001b[0m\n",
      "\n",
      "\u001b[1m> Finished chain.\u001b[0m\n"
     ]
    },
    {
     "data": {
      "text/plain": [
       "\"The next appearance of Halley's comet can be spotted in the year 3755.\""
      ]
     },
     "execution_count": 37,
     "metadata": {},
     "output_type": "execute_result"
    }
   ],
   "source": [
    "from langchain.agents import AgentType, initialize_agent, load_tools\n",
    "from langchain.llms import OpenAI\n",
    "\n",
    "llm = OpenAI(temperature=0)\n",
    "\n",
    "# The tools we'll give the Agent access to. Note that the 'llm-math' tool uses an LLM, so we need to pass that in.\n",
    "tools = load_tools([\"serpapi\", \"llm-math\"], llm=llm)\n",
    "\n",
    "# Finally, let's initialize an agent with the tools, the language model, and the type of agent we want to use.\n",
    "agent = initialize_agent(tools, llm, agent=AgentType.ZERO_SHOT_REACT_DESCRIPTION, verbose=True)\n",
    "\n",
    "# Let's test it out!\n",
    "agent.run(\"When the next haleys comet can be spotted? \")"
   ]
  },
  {
   "cell_type": "code",
   "execution_count": 38,
   "id": "4150547f-6efc-49aa-aa1a-aa8b25b1b7ad",
   "metadata": {},
   "outputs": [
    {
     "name": "stdout",
     "output_type": "stream",
     "text": [
      "\n",
      "\n",
      "\"El Sabor Exquisito\" (The Exquisite Flavor)\n"
     ]
    }
   ],
   "source": [
    "chain = LLMChain(llm=llm,prompt=prompt_template_name)\n",
    "name = chain.run(\"Mexican\")\n",
    "print(name)"
   ]
  },
  {
   "cell_type": "code",
   "execution_count": 39,
   "id": "35d59acc-a467-4c85-b43f-0b052a6887be",
   "metadata": {},
   "outputs": [
    {
     "name": "stdout",
     "output_type": "stream",
     "text": [
      "\n",
      "\n",
      "\"Spice Palace\"\n"
     ]
    }
   ],
   "source": [
    "name = chain.run(\"Indian\")\n",
    "print(name)"
   ]
  },
  {
   "cell_type": "code",
   "execution_count": 40,
   "id": "3ee2c33e-68ef-4d56-b2c8-dd70e61ffbde",
   "metadata": {},
   "outputs": [
    {
     "data": {
      "text/plain": [
       "NoneType"
      ]
     },
     "execution_count": 40,
     "metadata": {},
     "output_type": "execute_result"
    }
   ],
   "source": [
    "chain.memory\n",
    "type(chain.memory)"
   ]
  },
  {
   "cell_type": "code",
   "execution_count": 41,
   "id": "e2fb8568-584a-420d-bf87-0b5e7c472763",
   "metadata": {},
   "outputs": [
    {
     "name": "stdout",
     "output_type": "stream",
     "text": [
      "\n",
      "\n",
      "\"El Sabor Exquisito\" (The Exquisite Flavor)\n"
     ]
    }
   ],
   "source": [
    "from langchain.memory import ConversationBufferMemory\n",
    "\n",
    "memory = ConversationBufferMemory()\n",
    "\n",
    "chain = LLMChain(llm=llm, prompt=prompt_template_name, memory=memory)\n",
    "name = chain.run(\"Mexican\")\n",
    "print(name)"
   ]
  },
  {
   "cell_type": "code",
   "execution_count": 42,
   "id": "93cf2810-40c5-4d33-b3f2-fd1316d62795",
   "metadata": {},
   "outputs": [
    {
     "name": "stdout",
     "output_type": "stream",
     "text": [
      "\n",
      "\n",
      "\"Al-Fawarish\" (meaning \"The Treasures\" in Arabic)\n"
     ]
    }
   ],
   "source": [
    "name = chain.run(\"Arabic\")\n",
    "print(name)"
   ]
  },
  {
   "cell_type": "code",
   "execution_count": 43,
   "id": "b37fc9bf-da1c-42df-874f-138bc15cda50",
   "metadata": {},
   "outputs": [
    {
     "name": "stdout",
     "output_type": "stream",
     "text": [
      "Human: Mexican\n",
      "AI: \n",
      "\n",
      "\"El Sabor Exquisito\" (The Exquisite Flavor)\n",
      "Human: Arabic\n",
      "AI: \n",
      "\n",
      "\"Al-Fawarish\" (meaning \"The Treasures\" in Arabic)\n"
     ]
    }
   ],
   "source": [
    "print(chain.memory.buffer)"
   ]
  },
  {
   "cell_type": "code",
   "execution_count": 44,
   "id": "17b83684-0197-454e-9003-9de0c3ce54f6",
   "metadata": {},
   "outputs": [
    {
     "name": "stdout",
     "output_type": "stream",
     "text": [
      "The following is a friendly conversation between a human and an AI. The AI is talkative and provides lots of specific details from its context. If the AI does not know the answer to a question, it truthfully says it does not know.\n",
      "\n",
      "Current conversation:\n",
      "{history}\n",
      "Human: {input}\n",
      "AI:\n"
     ]
    }
   ],
   "source": [
    "from langchain.chains import ConversationChain\n",
    "\n",
    "convo = ConversationChain(llm=OpenAI(temperature=0.7))\n",
    "print(convo.prompt.template)"
   ]
  },
  {
   "cell_type": "code",
   "execution_count": 45,
   "id": "1b3837c0-ab4b-4f0f-9fc0-cbeebee292cd",
   "metadata": {},
   "outputs": [
    {
     "data": {
      "text/plain": [
       "' The first cricket world cup was held in 1975 and was won by the West Indies team. They defeated Australia in the final by 17 runs. The West Indies team was led by Clive Lloyd and had notable players such as Viv Richards, Gordon Greenidge, and Michael Holding. The tournament was held in England and was organized by the International Cricket Council (ICC). This was the first ever cricket world cup and it set the foundation for future tournaments.'"
      ]
     },
     "execution_count": 45,
     "metadata": {},
     "output_type": "execute_result"
    }
   ],
   "source": [
    "convo.run(\"Who won the first cricket world cup?\")"
   ]
  },
  {
   "cell_type": "code",
   "execution_count": 46,
   "id": "d25aac2c-8e21-432d-bbd9-d9c91afce0f2",
   "metadata": {},
   "outputs": [
    {
     "data": {
      "text/plain": [
       "' As of October 2021, the prime minister of India is Narendra Modi. He has been in office since 2014 and is currently serving his second term. Modi is a member of the Bharatiya Janata Party (BJP) and was previously the Chief Minister of Gujarat. He is known for his economic policies and push for digitalization in India. His government has also focused on initiatives such as Swachh Bharat Abhiyan (Clean India Mission) and Beti Bachao Beti Padhao (Save the Daughter, Educate the Daughter).'"
      ]
     },
     "execution_count": 46,
     "metadata": {},
     "output_type": "execute_result"
    }
   ],
   "source": [
    "convo.run(\"Who is the prime minister of india\")"
   ]
  },
  {
   "cell_type": "code",
   "execution_count": 47,
   "id": "2b4704c6-4150-44a6-bef1-3f11fa1ba0bf",
   "metadata": {},
   "outputs": [
    {
     "data": {
      "text/plain": [
       "' In the first cricket world cup, the captain of the losing team Australia was Ian Chappell. He led the team to the final but they were ultimately defeated by the West Indies. Chappell was a prominent Australian cricketer who played from 1964 to 1980. He was known for his aggressive and tactical leadership on the field. After his retirement, he became a cricket commentator and writer.'"
      ]
     },
     "execution_count": 47,
     "metadata": {},
     "output_type": "execute_result"
    }
   ],
   "source": [
    "convo.run(\"Who was the captain of losing team?\")"
   ]
  },
  {
   "cell_type": "code",
   "execution_count": 48,
   "id": "943889b6-959a-4e28-85cb-e5f5993821fd",
   "metadata": {},
   "outputs": [
    {
     "data": {
      "text/plain": [
       "' As of 2021, Ian Chappell is still alive. He is 78 years old and resides in Australia. He continues to be involved in cricket as a commentator and analyst, providing insights and commentary on matches and players.'"
      ]
     },
     "execution_count": 48,
     "metadata": {},
     "output_type": "execute_result"
    }
   ],
   "source": [
    "convo.run(\"Is he alive?\")"
   ]
  },
  {
   "cell_type": "code",
   "execution_count": 49,
   "id": "5ac6cb92-b83b-4dea-aa56-fd780cb63ddd",
   "metadata": {},
   "outputs": [
    {
     "name": "stdout",
     "output_type": "stream",
     "text": [
      "Human: Who won the first cricket world cup?\n",
      "AI:  The first cricket world cup was held in 1975 and was won by the West Indies team. They defeated Australia in the final by 17 runs. The West Indies team was led by Clive Lloyd and had notable players such as Viv Richards, Gordon Greenidge, and Michael Holding. The tournament was held in England and was organized by the International Cricket Council (ICC). This was the first ever cricket world cup and it set the foundation for future tournaments.\n",
      "Human: Who is the prime minister of india\n",
      "AI:  As of October 2021, the prime minister of India is Narendra Modi. He has been in office since 2014 and is currently serving his second term. Modi is a member of the Bharatiya Janata Party (BJP) and was previously the Chief Minister of Gujarat. He is known for his economic policies and push for digitalization in India. His government has also focused on initiatives such as Swachh Bharat Abhiyan (Clean India Mission) and Beti Bachao Beti Padhao (Save the Daughter, Educate the Daughter).\n",
      "Human: Who was the captain of losing team?\n",
      "AI:  In the first cricket world cup, the captain of the losing team Australia was Ian Chappell. He led the team to the final but they were ultimately defeated by the West Indies. Chappell was a prominent Australian cricketer who played from 1964 to 1980. He was known for his aggressive and tactical leadership on the field. After his retirement, he became a cricket commentator and writer.\n",
      "Human: Is he alive?\n",
      "AI:  As of 2021, Ian Chappell is still alive. He is 78 years old and resides in Australia. He continues to be involved in cricket as a commentator and analyst, providing insights and commentary on matches and players.\n"
     ]
    }
   ],
   "source": [
    "print(convo.memory.buffer)"
   ]
  },
  {
   "cell_type": "code",
   "execution_count": 51,
   "id": "31a9abf8-e041-429e-8a10-a13af0429175",
   "metadata": {},
   "outputs": [
    {
     "data": {
      "text/plain": [
       "' The first cricket world cup was won by the West Indies in 1975.'"
      ]
     },
     "execution_count": 51,
     "metadata": {},
     "output_type": "execute_result"
    }
   ],
   "source": [
    "from langchain.memory import ConversationBufferWindowMemory\n",
    "\n",
    "memory = ConversationBufferWindowMemory(k=1)\n",
    "\n",
    "convo = ConversationChain(\n",
    "    llm=OpenAI(temperature=0.7),\n",
    "    memory=memory\n",
    ")\n",
    "convo.run(\"Who won the first cricket world cup? Answer in one line only\")"
   ]
  },
  {
   "cell_type": "code",
   "execution_count": 52,
   "id": "228be89d-37bd-4bb4-88f8-da9270b08677",
   "metadata": {},
   "outputs": [
    {
     "data": {
      "text/plain": [
       "' The current prime minister of Australia is Scott Morrison.'"
      ]
     },
     "execution_count": 52,
     "metadata": {},
     "output_type": "execute_result"
    }
   ],
   "source": [
    "convo.run(\"Who is the prime minister of Australia?\")"
   ]
  },
  {
   "cell_type": "code",
   "execution_count": 53,
   "id": "553714fa-0d54-4a68-b435-b0898c9af6f1",
   "metadata": {},
   "outputs": [
    {
     "data": {
      "text/plain": [
       "' I do not have enough context to accurately answer your question. Can you provide me with the name of the team or the specific game you are referring to?'"
      ]
     },
     "execution_count": 53,
     "metadata": {},
     "output_type": "execute_result"
    }
   ],
   "source": [
    "convo.run(\"Who was the captain of losing team?\")"
   ]
  },
  {
   "cell_type": "code",
   "execution_count": null,
   "id": "ecc3639a-4b5b-4c31-add2-360568927025",
   "metadata": {},
   "outputs": [],
   "source": [
    "print(\"done\")"
   ]
  },
  {
   "cell_type": "code",
   "execution_count": null,
   "id": "9abe5aac",
   "metadata": {},
   "outputs": [],
   "source": []
  }
 ],
 "metadata": {
  "kernelspec": {
   "display_name": "Python 3 (ipykernel)",
   "language": "python",
   "name": "python3"
  },
  "language_info": {
   "codemirror_mode": {
    "name": "ipython",
    "version": 3
   },
   "file_extension": ".py",
   "mimetype": "text/x-python",
   "name": "python",
   "nbconvert_exporter": "python",
   "pygments_lexer": "ipython3",
   "version": "3.11.7"
  }
 },
 "nbformat": 4,
 "nbformat_minor": 5
}
